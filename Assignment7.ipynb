{
 "cells": [
  {
   "cell_type": "markdown",
   "metadata": {},
   "source": [
    "# Assignment 7 Neural Nets\n"
   ]
  },
  {
   "cell_type": "markdown",
   "metadata": {},
   "source": [
    "## Perceptron\n",
    "To start we are going to examine a classical Perceptron.  "
   ]
  },
  {
   "cell_type": "code",
   "execution_count": 1,
   "metadata": {},
   "outputs": [
    {
     "name": "stdout",
     "output_type": "stream",
     "text": [
      "   A  B  AND  OR  XOR\n",
      "0  1  1    1   1    0\n",
      "1  1  0    0   1    1\n",
      "2  0  1    0   1    1\n",
      "3  0  0    0   0    0\n"
     ]
    }
   ],
   "source": [
    "## Lets start with simple logic functions of two arguments \n",
    "# A with B\n",
    "import numpy as np\n",
    "import pandas as pd\n",
    "\n",
    "logic_data = np.array([\n",
    "    [1, 1, 1, 1, 0],\n",
    "    [1, 0, 0, 1, 1],\n",
    "    [0, 1, 0, 1, 1],\n",
    "    [0, 0, 0, 0, 0],\n",
    "])\n",
    "\n",
    "# slice it into a dictionary\n",
    "d = {}\n",
    "d['A'] = logic_data[:,0]  #This is the first column\n",
    "d['B'] = logic_data[:,1]  \n",
    "d['AND'] = logic_data[:,2]  \n",
    "d['OR'] = logic_data[:,3]  \n",
    "d['XOR'] = logic_data[:,4]  \n",
    "logic_df = pd.DataFrame(d)\n",
    "\n",
    "print(logic_df)\n"
   ]
  },
  {
   "cell_type": "markdown",
   "metadata": {},
   "source": [
    "## Part 1\n",
    "Create and train a MLPClassifier on the logic data frame.  Since this is a perceptron, there will be no hidden layer \n",
    "* Use hidden_layer_sizes = () This is an empty tuple of sizes.\n",
    "* Use 'logistic' as the activation.  \n",
    "* Set the maximum number of iterations to 1000 and increase by 1000 until you get convergence.\n",
    "* Use an initial_learning_rate = 0.01  (You can try changing this.)\n",
    "* Use ['A','B'] for X\n",
    "* Use 'AND' for y"
   ]
  },
  {
   "cell_type": "code",
   "execution_count": 1,
   "metadata": {},
   "outputs": [],
   "source": [
    "from sklearn.neural_network import MLPClassifier\n",
    "\n",
    "# your code here\n"
   ]
  },
  {
   "cell_type": "markdown",
   "metadata": {},
   "source": [
    "## Part 2 \n",
    "Compute a confusion matrix on the logic data frame and see how you did"
   ]
  },
  {
   "cell_type": "code",
   "execution_count": null,
   "metadata": {},
   "outputs": [],
   "source": [
    "# your code here\n"
   ]
  },
  {
   "cell_type": "markdown",
   "metadata": {},
   "source": [
    "## Part 3\n",
    "Train the model and then compute a confusion matrix using 'OR' for y"
   ]
  },
  {
   "cell_type": "code",
   "execution_count": 2,
   "metadata": {
    "scrolled": true
   },
   "outputs": [],
   "source": [
    "# your code here"
   ]
  },
  {
   "cell_type": "markdown",
   "metadata": {},
   "source": [
    "## Part 4\n",
    "Train the model and then compute a confusion matrix using 'XOR' for y.\n",
    "Print the predicted values of y.\n"
   ]
  },
  {
   "cell_type": "code",
   "execution_count": 3,
   "metadata": {},
   "outputs": [],
   "source": [
    "# your code here"
   ]
  },
  {
   "cell_type": "markdown",
   "metadata": {},
   "source": [
    "### Fit this multiple times and remark on the results here:\n"
   ]
  },
  {
   "cell_type": "markdown",
   "metadata": {},
   "source": [
    "## Part 5\n",
    "Create a new multi-layer-perceptron with a single hidden layer with four nodes.\n",
    "* hidden_layer_sizes = (4)\n"
   ]
  },
  {
   "cell_type": "code",
   "execution_count": null,
   "metadata": {},
   "outputs": [],
   "source": [
    "# your code here"
   ]
  },
  {
   "cell_type": "markdown",
   "metadata": {},
   "source": [
    "## Part 6\n",
    "Train the new model and then compute a confusion matrix using 'XOR' for y.\n",
    "Print the predicted values of y.\n"
   ]
  },
  {
   "cell_type": "code",
   "execution_count": 4,
   "metadata": {},
   "outputs": [],
   "source": [
    "# your code here"
   ]
  },
  {
   "cell_type": "markdown",
   "metadata": {},
   "source": [
    "## About the dataset\n",
    "The data set you will be using in the second part is FIFA data set we used in assignment 5.  \n",
    "\n",
    "\n"
   ]
  },
  {
   "cell_type": "markdown",
   "metadata": {},
   "source": [
    "## Base: Get the DataSet and clean it\n",
    "\n",
    "1) Read the fifa_data.csv file into a data frame\n",
    "1) Display the info\n",
    "1) Remove the \"Loaned From\" feature\n",
    "1) Remove rows with missing data values\n",
    "1) Create a \"Pay\" feature that is numeric from \"Wage\"\n",
    "1) Create a \"Pay Grade\" feature that is a category based on \"Pay\"\n",
    "1) Split into train and test sets (70% and 30%)\n",
    "\n",
    "This should not be new code, but will be what you did for Assignment 5"
   ]
  },
  {
   "cell_type": "code",
   "execution_count": null,
   "metadata": {},
   "outputs": [],
   "source": [
    "# your code here"
   ]
  },
  {
   "cell_type": "markdown",
   "metadata": {},
   "source": [
    "## Base Line: Cross Validate Using A Decision Tree Classifier \n",
    "\n",
    "Do a 5 fold cross validation on the entire data set where\n",
    "\n",
    "X - Uses your choice of at least 4 features (Not including Wage, Pay, or PayGrade)\n",
    "y - Classification is \"Pay Grade\"\n",
    "\n",
    "Compute and display the confusion matrix, Accuracy, and F1 score for each fold\n",
    "\n",
    "This will be newish code, but should be close to what you did on Assignment 5"
   ]
  },
  {
   "cell_type": "code",
   "execution_count": null,
   "metadata": {},
   "outputs": [],
   "source": [
    "# your code here"
   ]
  },
  {
   "cell_type": "markdown",
   "metadata": {},
   "source": [
    "## Part 7 - Train and Test a Neural Net\n",
    "\n",
    "* Use a single hidden layer of size 20\n",
    "* Use 'logistic' as the activation.  \n",
    "* Set the maximum number of iterations to 1000 and increase by 1000 until you get convergence.\n",
    "* Use an initial_learning_rate = 0.01  (You can try changing this.)\n",
    "\n",
    "\n",
    "Use the same features and target as per the baseline.\n",
    "Use the train set to predict the targets, then compute and display the confusion matrix, Accuracy and F1 score. \n"
   ]
  },
  {
   "cell_type": "code",
   "execution_count": 5,
   "metadata": {},
   "outputs": [],
   "source": [
    "## Your code\n",
    "\n"
   ]
  },
  {
   "cell_type": "markdown",
   "metadata": {},
   "source": [
    "### Your comparison with previous results here:"
   ]
  },
  {
   "cell_type": "markdown",
   "metadata": {},
   "source": [
    "## Part 8 - Vary size of hidden layer.\n",
    "Use sizes for the hidden layer of 10, 20, 30, 100, 200, 300.\n",
    "Report the confusion matrix and accuracy for each.\n"
   ]
  },
  {
   "cell_type": "code",
   "execution_count": 4,
   "metadata": {},
   "outputs": [],
   "source": [
    "## Your code"
   ]
  },
  {
   "cell_type": "markdown",
   "metadata": {},
   "source": [
    "### As you change the size of the hidden layer how does the performance change:"
   ]
  },
  {
   "cell_type": "markdown",
   "metadata": {},
   "source": [
    "## Part 9 - Vary the number of hidden layers.  \n",
    "Set the sizes for the hidden layers to \n",
    "* ()\n",
    "* (50)\n",
    "* (50, 50)\n",
    "* (50, 50, 50)\n",
    "* (50, 50, 50, 50)\n",
    "\n",
    "Report the confusion matrix and accuracy for each.\n",
    "\n"
   ]
  },
  {
   "cell_type": "code",
   "execution_count": 4,
   "metadata": {},
   "outputs": [],
   "source": [
    "## Your code"
   ]
  },
  {
   "cell_type": "markdown",
   "metadata": {},
   "source": [
    "### As you change the number of hidden layers how does the performance change:"
   ]
  },
  {
   "cell_type": "markdown",
   "metadata": {},
   "source": [
    "## Part 10 - Vary solver and activation\n",
    "\n",
    "Set the hidden layers to  (500, 500) and use each of the following combinations\n",
    "* solver='adam', activation='logistic'\n",
    "* solver='adam', activation='relu'\n",
    "* solver='sgd', activation='logistic'\n",
    "* solver='sgd', activation='relu'\n",
    "\n",
    "As well as performance, look at how quickly the network trains.\n",
    "  "
   ]
  },
  {
   "cell_type": "code",
   "execution_count": 5,
   "metadata": {},
   "outputs": [],
   "source": [
    "# Your code\n"
   ]
  },
  {
   "cell_type": "markdown",
   "metadata": {},
   "source": [
    "### Which combination worked the best:"
   ]
  },
  {
   "cell_type": "markdown",
   "metadata": {},
   "source": [
    "## Bonus\n",
    "Explore the capabilities of neural nets...\n",
    "1. Try using more features for your model.\n",
    "1. Try different sizes for the hidden layers. We can try decreasing sizes for the hidden layers, increasing sizes, or alternating sizes.  For this data set, which one worked the best?\n",
    "1. Try using other parameter combinations\n",
    "* solver can be 'sgd', 'adam', 'lbfgs'\n",
    "* activation can be 'logistic', 'relu', 'tanh'\n",
    "* batch_size can be an int (Does minibatch with adam or sgd)\n",
    "* learning_rate can be ‘constant’, ‘invscaling’, ‘adaptive’"
   ]
  }
 ],
 "metadata": {
  "kernelspec": {
   "display_name": "Python 3",
   "language": "python",
   "name": "python3"
  },
  "language_info": {
   "codemirror_mode": {
    "name": "ipython",
    "version": 3
   },
   "file_extension": ".py",
   "mimetype": "text/x-python",
   "name": "python",
   "nbconvert_exporter": "python",
   "pygments_lexer": "ipython3",
   "version": "3.7.3"
  }
 },
 "nbformat": 4,
 "nbformat_minor": 2
}
